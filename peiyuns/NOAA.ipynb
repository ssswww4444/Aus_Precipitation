{
 "cells": [
  {
   "cell_type": "code",
   "execution_count": 3,
   "metadata": {},
   "outputs": [],
   "source": [
    "import numpy as np\n",
    "import pandas as pd\n",
    "import xarray as xr\n",
    "import numpy as np\n",
    "import urllib.request"
   ]
  },
  {
   "cell_type": "code",
   "execution_count": 208,
   "metadata": {},
   "outputs": [
    {
     "name": "stdout",
     "output_type": "stream",
     "text": [
      "ftp://ftp2.psl.noaa.gov/Datasets/cpc_global_precip/precip.1979.nc\n"
     ]
    }
   ],
   "source": [
    "for year in range(1979,1980):\n",
    "    try:\n",
    "        filename = f'ftp://ftp2.psl.noaa.gov/Datasets/cpc_global_precip/precip.{year}.nc'\n",
    "        print(filename)\n",
    "        dest = f'NOAA/precip.{year}.nc'\n",
    "        urllib.request.urlretrieve(filename, dest)\n",
    "    except:\n",
    "        print(\"Error:\" + filename)\n"
   ]
  },
  {
   "cell_type": "code",
   "execution_count": 225,
   "metadata": {},
   "outputs": [],
   "source": [
    "# get data with lat*lon*time rows\n",
    "ds = xr.open_dataset('NOAA/precip.' + str(year) + '.nc', engine='netcdf4')\n",
    "df = ds.to_dataframe()\n",
    "df = df.reset_index()"
   ]
  },
  {
   "cell_type": "code",
   "execution_count": 10,
   "metadata": {},
   "outputs": [],
   "source": [
    "# read fused loc\n",
    "fused_loc = pd.read_csv(\"fused_locations.txt\")\n",
    "fused_loc = fused_loc.rename(columns={'Lat':'lat', 'Lon':'lon'})\n",
    "fused_loc['fused.loc'] = 1"
   ]
  },
  {
   "cell_type": "code",
   "execution_count": null,
   "metadata": {},
   "outputs": [],
   "source": [
    "# TODO: find interaction: failed -> due to different lon in fused and data\n",
    "# fused_df = df.merge(fused_loc, on=['lat', 'lon'], how='left')"
   ]
  },
  {
   "cell_type": "code",
   "execution_count": 32,
   "metadata": {},
   "outputs": [],
   "source": [
    "for year in range(2000,2024):\n",
    "        # get data with lat*lon*time rows\n",
    "        ds = xr.open_dataset('NOAA/precip.' + str(year) + '.nc', engine='netcdf4')\n",
    "        df = ds.to_dataframe()\n",
    "        df = df.reset_index()\n",
    "\n",
    "        # convert 0 to 360 latitude to -180 to 180\n",
    "        df.loc[df['lon'] > 180, 'lon'] -= 360\n",
    "\n",
    "        # some transformation in Ben's code that I don't understand\n",
    "        pos_lat = df['lat'] >= 0\n",
    "        df.loc[pos_lat, 'lat'] = df.loc[pos_lat, 'lat'] - 90\n",
    "        df.loc[~pos_lat, 'lat'] = df.loc[~pos_lat, 'lat'] + 90\n",
    "        t1 = df['lat'].copy()\n",
    "        t2 = df['lon'].copy()\n",
    "        df['lat'] = -1*t2 + 90\n",
    "        df['lon'] = -2*t1\n",
    "        df.loc[df['lat'] > 90, 'lat'] -= 180\n",
    "\n",
    "        # roughly filter location\n",
    "        df = df[(df['lat'] >= (min(fused_loc['lat']) - 0.5)) & (df['lat'] <= (max(fused_loc['lat']) - 0.5)) \n",
    "                & (df['lon'] >= (min(fused_loc['lon']) - 0.5)) & (df['lon'] <= (max(fused_loc['lon']) - 0.5))]\n",
    "        \n",
    "        # Sum to get monthly data\n",
    "        df['time'] = df['time'].astype(str).str.slice(0, 7)  # drop day value from date\n",
    "        df = df.groupby(['lat','lon','time']).agg({'precip': lambda x: x.sum(skipna=False)})  # keep NA\n",
    "        # df = df.groupby(['lat','lon','time']).sum()  # ignore NA\n",
    "        df = df.reset_index()\n",
    "\n",
    "        # Merge all into time x location\n",
    "        lat = min(df['lat'])\n",
    "        lon = min(df['lon'])\n",
    "        df_all = df[(df['lat'] == lat) & (df['lon'] == lon)][['time', 'precip']]\n",
    "        df_all = df_all.rename(columns={'precip': str(lat)+\",\"+str(lon)})\n",
    "\n",
    "        for lat in np.arange(min(df['lat']),(max(df['lat'])+0.5),0.5):\n",
    "                for lon in np.arange((min(df['lon'])+1),max(df['lon']+1),1):\n",
    "                        data_loc = df[(df['lat'] == lat) & (df['lon'] == lon)][['time', 'precip']]\n",
    "                        data_loc = data_loc.rename(columns={'precip': str(lat)+\",\"+str(lon)})\n",
    "                        df_all = df_all.merge(data_loc, on='time')\n",
    "\n",
    "        df_all.to_csv(\"NOAA/NOAA_\" + str(year) + \".csv\")"
   ]
  },
  {
   "cell_type": "code",
   "execution_count": null,
   "metadata": {},
   "outputs": [],
   "source": []
  }
 ],
 "metadata": {
  "kernelspec": {
   "display_name": "python37",
   "language": "python",
   "name": "python3"
  },
  "language_info": {
   "codemirror_mode": {
    "name": "ipython",
    "version": 3
   },
   "file_extension": ".py",
   "mimetype": "text/x-python",
   "name": "python",
   "nbconvert_exporter": "python",
   "pygments_lexer": "ipython3",
   "version": "3.8.16"
  },
  "orig_nbformat": 4
 },
 "nbformat": 4,
 "nbformat_minor": 2
}
